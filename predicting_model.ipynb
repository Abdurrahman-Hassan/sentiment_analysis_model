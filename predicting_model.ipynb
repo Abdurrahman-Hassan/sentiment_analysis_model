{
 "cells": [
  {
   "cell_type": "code",
   "execution_count": 5,
   "id": "b7599bb6-7fbb-460e-adcc-894817914b1c",
   "metadata": {},
   "outputs": [],
   "source": [
    "import string\n",
    "import re\n",
    "import spacy\n",
    "from spacy.lang.pt.stop_words import STOP_WORDS\n",
    "\n",
    "def preprocessing(text):\n",
    "    text = text.lower()\n",
    "  \n",
    "    tokens = [token.text for token in nlp(text)]\n",
    "  \n",
    "    tokens = [t for t in tokens if \n",
    "              t not in STOP_WORDS and \n",
    "              t not in string.punctuation and \n",
    "              len(t) > 3]\n",
    "  \n",
    "    tokens = [t for t in tokens if not t.isdigit()]\n",
    "\n",
    "    tokens = [t for t in tokens if not t.isdigit()]\n",
    "    \n",
    "    return \" \".join(tokens)"
   ]
  },
  {
   "cell_type": "code",
   "execution_count": 17,
   "id": "85d58e06-01d0-440e-8170-299dcc39f1e9",
   "metadata": {},
   "outputs": [
    {
     "name": "stdout",
     "output_type": "stream",
     "text": [
      "{'Negative': 0.880916178226471, 'Neutral': 0.08103983849287033, 'Positive': 0.038043975830078125} - This is a standard, run-of-the-mill product that does its job without any frills or surprises. The design and build quality are average, with no remarkable features that stand out. Its performance is adequate, handling everyday tasks without any major issues. The battery life is reasonable, providing enough usage time for my needs. The customer support is responsive but doesn't go above and beyond. In summary, it's a middle-of-the-road product that does what it's supposed to do.\n"
     ]
    }
   ],
   "source": [
    "texts = [\"This is a standard, run-of-the-mill product that does its job without any frills or surprises. The design and build quality are average, with no remarkable features that stand out. Its performance is adequate, handling everyday tasks without any major issues. The battery life is reasonable, providing enough usage time for my needs. The customer support is responsive but doesn't go above and beyond. In summary, it's a middle-of-the-road product that does what it's supposed to do.\"]\n",
    "nlp = spacy.load(\"./model/model-best\")\n",
    "for text in texts:\n",
    "    doc = nlp(preprocessing(text))\n",
    "    print(doc.cats,  \"-\",  text)"
   ]
  },
  {
   "cell_type": "code",
   "execution_count": 9,
   "id": "48b1c0e5-35db-4c40-9173-55feea57ac52",
   "metadata": {},
   "outputs": [
    {
     "name": "stdout",
     "output_type": "stream",
     "text": [
      "{'Negative': 0.3682163953781128, 'Neutral': 0.026495952159166336, 'Positive': 0.6052876710891724} - I absolutely love this product. It has exceeded my expectations!\n",
      "{'Negative': 0.3487292528152466, 'Neutral': 0.008395537734031677, 'Positive': 0.6428751349449158} - The book you lent me is on my desk\n",
      "{'Negative': 0.7000687122344971, 'Neutral': 0.008670227602124214, 'Positive': 0.29126107692718506} - The movie I watched last night was terrible. I wouldn't recommend it.\n",
      "{'Negative': 0.15124601125717163, 'Neutral': 0.009154883213341236, 'Positive': 0.8395991325378418} - The weather today is perfect for a picnic in the park.\n",
      "{'Negative': 0.18356694281101227, 'Neutral': 0.007235224358737469, 'Positive': 0.8091978430747986} - I had a fantastic day with my friends at the amusement park.\n",
      "{'Negative': 0.534553587436676, 'Neutral': 0.014299864880740643, 'Positive': 0.45114654302597046} - The conference starts at 9 AM tomorrow.\n",
      "{'Negative': 0.9620115756988525, 'Neutral': 0.006686164997518063, 'Positive': 0.03130238875746727} - The traffic today was average, not too bad.\n",
      "{'Negative': 0.9541647434234619, 'Neutral': 0.004972393158823252, 'Positive': 0.04086284339427948} - I'm really disappointed with the customer service I received.\n",
      "{'Negative': 0.9760560989379883, 'Neutral': 0.005891664884984493, 'Positive': 0.01805219240486622} - My experience with that restaurant was awful. The food was cold, and the service was slow.\n"
     ]
    }
   ],
   "source": [
    "import spacy\n",
    "\n",
    "# Load the trained spaCy model\n",
    "nlp = spacy.load(\"./model/model-best\")\n",
    "\n",
    "# Define a preprocessing function (if needed)\n",
    "def preprocessing(text):\n",
    "    return text\n",
    "\n",
    "# List of texts to classify\n",
    "texts = [\n",
    "    \"I absolutely love this product. It has exceeded my expectations!\",\n",
    "    \"The book you lent me is on my desk\",\n",
    "    \"The movie I watched last night was terrible. I wouldn't recommend it.\",\n",
    "    \"The weather today is perfect for a picnic in the park.\",\n",
    "    \"I had a fantastic day with my friends at the amusement park.\",\n",
    "    \"The conference starts at 9 AM tomorrow.\",\n",
    "    \"The traffic today was average, not too bad.\",\n",
    "    \"I'm really disappointed with the customer service I received.\",\n",
    "    \"My experience with that restaurant was awful. The food was cold, and the service was slow.\"\n",
    "]\n",
    "\n",
    "# Loop through the texts and classify them\n",
    "for text in texts:\n",
    "    doc = nlp(preprocessing(text))\n",
    "    print(doc.cats, \"-\", text)\n"
   ]
  },
  {
   "cell_type": "code",
   "execution_count": null,
   "id": "5d81f921-af72-4fa7-b9e9-771f4423a337",
   "metadata": {},
   "outputs": [],
   "source": []
  }
 ],
 "metadata": {
  "kernelspec": {
   "display_name": "Python 3 (ipykernel)",
   "language": "python",
   "name": "python3"
  },
  "language_info": {
   "codemirror_mode": {
    "name": "ipython",
    "version": 3
   },
   "file_extension": ".py",
   "mimetype": "text/x-python",
   "name": "python",
   "nbconvert_exporter": "python",
   "pygments_lexer": "ipython3",
   "version": "3.11.6"
  }
 },
 "nbformat": 4,
 "nbformat_minor": 5
}
