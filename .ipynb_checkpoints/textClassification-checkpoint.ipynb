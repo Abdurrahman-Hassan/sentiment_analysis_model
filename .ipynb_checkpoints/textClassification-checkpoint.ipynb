{
 "cells": [
  {
   "cell_type": "code",
   "execution_count": 1,
   "id": "623d643b-eb3e-452f-ac95-dbe68151aafe",
   "metadata": {},
   "outputs": [],
   "source": [
    "import spacy\n",
    "import pandas as pd\n",
    "\n",
    "nlp = spacy.blank(\"en\")\n",
    "\n",
    "df1=pd.read_csv(\"./1/twitter_training.csv\")\n",
    "\n",
    "#dataset1 = list(df1[[\"text\", \"value\"]].sample(frac=1).itertuples(index=False, name=None))\n",
    "dataset1=df1[[\"value\",\"text\"]]"
   ]
  },
  {
   "cell_type": "code",
   "execution_count": 2,
   "id": "158e9b4e-0468-49ae-be3a-4fe999aa58c6",
   "metadata": {
    "scrolled": true
   },
   "outputs": [],
   "source": [
    "df2=pd.read_csv(\"./2/trainingdata.csv\", encoding=\"iso-8859-1\")\n",
    "df2.columns = [\"value\",\"somenumber\", \"date\", \"noquery\",\"user\",\"text\"]\n",
    "\n",
    "#trainingdata2=df2[[\"value\",\"text\"]]\n",
    "dataset2=df2[[\"value\",\"text\"]]\n",
    "\n",
    "#dataset2 = list(trainingdata2[[\"text\", \"value\"]].sample(frac=1).itertuples(index=False, name=None))\n"
   ]
  },
  {
   "cell_type": "code",
   "execution_count": 3,
   "id": "63215860-ee32-48cf-bab1-66e783235347",
   "metadata": {},
   "outputs": [],
   "source": [
    "filtered_dataset1 = dataset1[dataset1['value'].str.isnumeric()]\n",
    "\n",
    "filtered_dataset2=dataset2\n",
    "# Convert 'value' column to integers\n",
    "filtered_dataset1.loc[:, 'value'] = filtered_dataset1['value'].astype(int)\n",
    "filtered_dataset2.loc[:, 'value'] = filtered_dataset2['value'].astype(int)\n",
    "\n",
    "# Filter rows with 'value' equal to 0, 2, or 4\n",
    "filtered_dataset1 = filtered_dataset1[filtered_dataset1['value'].isin([0, 2, 4])]\n",
    "filtered_dataset2 = filtered_dataset2[filtered_dataset2['value'].isin([0, 2, 4])]\n",
    "\n",
    "# Create datasets with selected columns\n",
    "train_dataset1 = list(filtered_dataset1[[\"text\", \"value\"]].sample(frac=1).itertuples(index=False, name=None))\n",
    "train_dataset2 = list(filtered_dataset2[[\"text\", \"value\"]].sample(frac=1).itertuples(index=False, name=None))\n"
   ]
  },
  {
   "cell_type": "code",
   "execution_count": 4,
   "id": "54937719-a032-4952-ba8e-b217846a9d8c",
   "metadata": {
    "scrolled": true
   },
   "outputs": [],
   "source": [
    "combined_df=train_dataset1+train_dataset2\n",
    "\n",
    "#combined_df = pd.concat([modset1, modset2], axis=0)\n",
    "\n",
    "columns = [ 'text','value']\n",
    "\n",
    "training_df = pd.DataFrame(combined_df,columns=columns)\n",
    "\n",
    "training_dataset = list(training_df[[\"text\", \"value\"]].sample(frac=1).itertuples(index=False, name=None))\n",
    "\n",
    "#print(len(training_dataset))\n",
    "\n",
    "#1674672 = 74673 + 1599998"
   ]
  },
  {
   "cell_type": "code",
   "execution_count": 98,
   "id": "4a074306-843d-412f-bdcf-09aaf781b9f5",
   "metadata": {
    "scrolled": true
   },
   "outputs": [],
   "source": [
    "import re\n",
    "\n",
    "train_doc_data=[]\n",
    "for text, value in training_dataset:\n",
    "    if isinstance(text, str) and isinstance(value, int):\n",
    "        cleaned_text = re.sub(r'[^A-Za-z0-9\\s]', '', text)    \n",
    "        doc = nlp(cleaned_text)\n",
    "        train_doc_data.append((doc, value))\n",
    "\n",
    "#7sec (en_web)=1000\n",
    "#159sec (en)=1.7million"
   ]
  },
  {
   "cell_type": "code",
   "execution_count": null,
   "id": "8bad76f0-2dff-40db-906a-b8129199de3c",
   "metadata": {},
   "outputs": [],
   "source": []
  },
  {
   "cell_type": "code",
   "execution_count": 50,
   "id": "051cf9e8-548e-40c0-ba2a-9af98e68ff04",
   "metadata": {},
   "outputs": [],
   "source": [
    "df3=pd.read_csv(\"./1/twitter_validation.csv\")\n",
    "df4=pd.read_csv(\"./2/testdata.csv\", encoding=\"iso-8859-1\")\n",
    "\n",
    "df3.columns = [\"random\",\"org\", \"value\", \"text\"]\n",
    "#df4.columns = [\"value\",\"somenumber\", \"date\", \"noquery\",\"user\",\"text\"]\n",
    "\n",
    "trainingdata3=df3[[\"value\",\"text\"]]\n",
    "\n",
    "df4.columns = [\"value\",\"somenumber\", \"date\", \"noquery\",\"user\",\"text\"]\n",
    "\n",
    "trainingdata4=df4[[\"value\",\"text\"]]\n"
   ]
  },
  {
   "cell_type": "code",
   "execution_count": 61,
   "id": "7602b6d7-55a3-4c3a-8ce4-9b06ca384d9e",
   "metadata": {
    "scrolled": true
   },
   "outputs": [],
   "source": [
    "filtered_dataset3 = trainingdata3[trainingdata3['value'].str.isnumeric()]\n",
    "filtered_dataset4=trainingdata4\n",
    "# Convert 'value' column to integers\n",
    "filtered_dataset3.loc[:, 'value'] = filtered_dataset3['value'].astype(int)\n",
    "filtered_dataset4['value'] = filtered_dataset4['value'].astype(int)\n",
    "\n",
    "# Filter rows with 'value' equal to 0, 2, or 4\n",
    "filtered_dataset3 = filtered_dataset3[filtered_dataset3['value'].isin([0, 2, 4])]\n",
    "filtered_dataset4 = filtered_dataset4[filtered_dataset4['value'].isin([0, 2, 4])]\n",
    "\n",
    "# Create datasets with selected columns\n",
    "dataset3 = list(filtered_dataset3[[\"text\", \"value\"]].sample(frac=1).itertuples(index=False, name=None))\n",
    "dataset4 = list(filtered_dataset4[[\"text\", \"value\"]].sample(frac=1).itertuples(index=False, name=None))\n",
    "\n",
    "# Combine the two datasets\n",
    "#test_combined_df = dataset3 + dataset4"
   ]
  },
  {
   "cell_type": "code",
   "execution_count": 62,
   "id": "abddbb3c-6d60-4a8f-937c-28afd5761186",
   "metadata": {},
   "outputs": [],
   "source": [
    "#dataset3 = list(trainingdata3[[\"text\", \"value\"]].sample(frac=1).itertuples(index=False, name=None))\n",
    "#dataset4 = list(trainingdata4[[\"text\", \"value\"]].sample(frac=1).itertuples(index=False, name=None))\n",
    "\n",
    "test_combined_df=dataset3+dataset4\n",
    "\n",
    "#print(combined_df)\n"
   ]
  },
  {
   "cell_type": "code",
   "execution_count": 63,
   "id": "4344fcbe-8891-4b5c-ab8e-117661f518db",
   "metadata": {},
   "outputs": [],
   "source": [
    "columns = [ 'text','value']\n",
    "testing_df = pd.DataFrame(test_combined_df,columns=columns)\n"
   ]
  },
  {
   "cell_type": "code",
   "execution_count": 66,
   "id": "27e94e25-9d0c-4d6d-b7dd-cc9e37e53d32",
   "metadata": {},
   "outputs": [],
   "source": [
    "testing_dataset = list(testing_df[[\"text\", \"value\"]].sample(frac=1).itertuples(index=False, name=None))"
   ]
  },
  {
   "cell_type": "code",
   "execution_count": 67,
   "id": "7a6fbe53-bb1b-43f6-880e-74c453f6b9d1",
   "metadata": {},
   "outputs": [],
   "source": [
    "testing_doc_data = []\n",
    "for text, value in testing_dataset:\n",
    "    if isinstance(text, str) and isinstance(value, int):\n",
    "        cleaned_test_text = re.sub(r'[^A-Za-z0-9\\s]', '', text)    \n",
    "        doc = nlp(cleaned_test_text)\n",
    "        testing_doc_data.append((doc, value))\n"
   ]
  },
  {
   "cell_type": "code",
   "execution_count": 111,
   "id": "a603e47e-c530-4e29-a3aa-b2353ae7bb96",
   "metadata": {
    "scrolled": true
   },
   "outputs": [],
   "source": [
    "import string\n",
    "import re\n",
    "import spacy\n",
    "from spacy.lang.pt.stop_words import STOP_WORDS\n",
    "\n",
    "def preprocessing(text):\n",
    "  text = text.lower()\n",
    "  \n",
    "  tokens = [token.text for token in nlp(text)]\n",
    "  \n",
    "  tokens = [t for t in tokens if \n",
    "              t not in STOP_WORDS and \n",
    "              t not in string.punctuation and \n",
    "              len(t) > 3]\n",
    "  \n",
    "  tokens = [t for t in tokens if not t.isdigit()]\n",
    "    \n",
    "  return \" \".join(tokens)"
   ]
  },
  {
   "cell_type": "code",
   "execution_count": 112,
   "id": "ffcafe93-8082-4945-bcb0-d1936aef37d0",
   "metadata": {
    "scrolled": true
   },
   "outputs": [
    {
     "ename": "MemoryError",
     "evalue": "",
     "output_type": "error",
     "traceback": [
      "\u001b[1;31m---------------------------------------------------------------------------\u001b[0m",
      "\u001b[1;31mMemoryError\u001b[0m                               Traceback (most recent call last)",
      "Cell \u001b[1;32mIn[112], line 11\u001b[0m\n\u001b[0;32m      8\u001b[0m         db\u001b[38;5;241m.\u001b[39madd(doc)\n\u001b[0;32m     10\u001b[0m     db\u001b[38;5;241m.\u001b[39mto_disk(outfile)\n\u001b[1;32m---> 11\u001b[0m \u001b[43mconvert\u001b[49m\u001b[43m(\u001b[49m\u001b[43mtrain_doc_data\u001b[49m\u001b[43m,\u001b[49m\u001b[43m \u001b[49m\u001b[38;5;124;43m\"\u001b[39;49m\u001b[38;5;124;43m./train.spacy\u001b[39;49m\u001b[38;5;124;43m\"\u001b[39;49m\u001b[43m)\u001b[49m\n\u001b[0;32m     12\u001b[0m \u001b[38;5;66;03m#convert(testing_doc_data, \"./dev.spacy\")\u001b[39;00m\n",
      "Cell \u001b[1;32mIn[112], line 10\u001b[0m, in \u001b[0;36mconvert\u001b[1;34m(data, outfile)\u001b[0m\n\u001b[0;32m      7\u001b[0m     doc\u001b[38;5;241m.\u001b[39mcats[\u001b[38;5;124m\"\u001b[39m\u001b[38;5;124mPositive\u001b[39m\u001b[38;5;124m\"\u001b[39m] \u001b[38;5;241m=\u001b[39m label \u001b[38;5;241m==\u001b[39m \u001b[38;5;241m4\u001b[39m\n\u001b[0;32m      8\u001b[0m     db\u001b[38;5;241m.\u001b[39madd(doc)\n\u001b[1;32m---> 10\u001b[0m \u001b[43mdb\u001b[49m\u001b[38;5;241;43m.\u001b[39;49m\u001b[43mto_disk\u001b[49m\u001b[43m(\u001b[49m\u001b[43moutfile\u001b[49m\u001b[43m)\u001b[49m\n",
      "File \u001b[1;32m~\\AppData\\Local\\Packages\\PythonSoftwareFoundation.Python.3.11_qbz5n2kfra8p0\\LocalCache\\local-packages\\Python311\\site-packages\\spacy\\tokens\\_serialize.py:262\u001b[0m, in \u001b[0;36mDocBin.to_disk\u001b[1;34m(self, path)\u001b[0m\n\u001b[0;32m    260\u001b[0m \u001b[38;5;28;01mwith\u001b[39;00m path\u001b[38;5;241m.\u001b[39mopen(\u001b[38;5;124m\"\u001b[39m\u001b[38;5;124mwb\u001b[39m\u001b[38;5;124m\"\u001b[39m) \u001b[38;5;28;01mas\u001b[39;00m file_:\n\u001b[0;32m    261\u001b[0m     \u001b[38;5;28;01mtry\u001b[39;00m:\n\u001b[1;32m--> 262\u001b[0m         file_\u001b[38;5;241m.\u001b[39mwrite(\u001b[38;5;28;43mself\u001b[39;49m\u001b[38;5;241;43m.\u001b[39;49m\u001b[43mto_bytes\u001b[49m\u001b[43m(\u001b[49m\u001b[43m)\u001b[49m)\n\u001b[0;32m    263\u001b[0m     \u001b[38;5;28;01mexcept\u001b[39;00m \u001b[38;5;167;01mValueError\u001b[39;00m:\n\u001b[0;32m    264\u001b[0m         \u001b[38;5;28;01mraise\u001b[39;00m \u001b[38;5;167;01mValueError\u001b[39;00m(Errors\u001b[38;5;241m.\u001b[39mE870)\n",
      "File \u001b[1;32m~\\AppData\\Local\\Packages\\PythonSoftwareFoundation.Python.3.11_qbz5n2kfra8p0\\LocalCache\\local-packages\\Python311\\site-packages\\spacy\\tokens\\_serialize.py:217\u001b[0m, in \u001b[0;36mDocBin.to_bytes\u001b[1;34m(self)\u001b[0m\n\u001b[0;32m    215\u001b[0m \u001b[38;5;28;01mif\u001b[39;00m \u001b[38;5;28mself\u001b[39m\u001b[38;5;241m.\u001b[39mstore_user_data:\n\u001b[0;32m    216\u001b[0m     msg[\u001b[38;5;124m\"\u001b[39m\u001b[38;5;124muser_data\u001b[39m\u001b[38;5;124m\"\u001b[39m] \u001b[38;5;241m=\u001b[39m \u001b[38;5;28mself\u001b[39m\u001b[38;5;241m.\u001b[39muser_data\n\u001b[1;32m--> 217\u001b[0m \u001b[38;5;28;01mreturn\u001b[39;00m zlib\u001b[38;5;241m.\u001b[39mcompress(\u001b[43msrsly\u001b[49m\u001b[38;5;241;43m.\u001b[39;49m\u001b[43mmsgpack_dumps\u001b[49m\u001b[43m(\u001b[49m\u001b[43mmsg\u001b[49m\u001b[43m)\u001b[49m)\n",
      "File \u001b[1;32m~\\AppData\\Local\\Packages\\PythonSoftwareFoundation.Python.3.11_qbz5n2kfra8p0\\LocalCache\\local-packages\\Python311\\site-packages\\srsly\\_msgpack_api.py:14\u001b[0m, in \u001b[0;36mmsgpack_dumps\u001b[1;34m(data)\u001b[0m\n\u001b[0;32m      8\u001b[0m \u001b[38;5;28;01mdef\u001b[39;00m \u001b[38;5;21mmsgpack_dumps\u001b[39m(data: JSONInputBin) \u001b[38;5;241m-\u001b[39m\u001b[38;5;241m>\u001b[39m \u001b[38;5;28mbytes\u001b[39m:\n\u001b[0;32m      9\u001b[0m \u001b[38;5;250m    \u001b[39m\u001b[38;5;124;03m\"\"\"Serialize an object to a msgpack byte string.\u001b[39;00m\n\u001b[0;32m     10\u001b[0m \n\u001b[0;32m     11\u001b[0m \u001b[38;5;124;03m    data: The data to serialize.\u001b[39;00m\n\u001b[0;32m     12\u001b[0m \u001b[38;5;124;03m    RETURNS (bytes): The serialized bytes.\u001b[39;00m\n\u001b[0;32m     13\u001b[0m \u001b[38;5;124;03m    \"\"\"\u001b[39;00m\n\u001b[1;32m---> 14\u001b[0m     \u001b[38;5;28;01mreturn\u001b[39;00m \u001b[43mmsgpack\u001b[49m\u001b[38;5;241;43m.\u001b[39;49m\u001b[43mdumps\u001b[49m\u001b[43m(\u001b[49m\u001b[43mdata\u001b[49m\u001b[43m,\u001b[49m\u001b[43m \u001b[49m\u001b[43muse_bin_type\u001b[49m\u001b[38;5;241;43m=\u001b[39;49m\u001b[38;5;28;43;01mTrue\u001b[39;49;00m\u001b[43m)\u001b[49m\n",
      "File \u001b[1;32m~\\AppData\\Local\\Packages\\PythonSoftwareFoundation.Python.3.11_qbz5n2kfra8p0\\LocalCache\\local-packages\\Python311\\site-packages\\srsly\\msgpack\\__init__.py:55\u001b[0m, in \u001b[0;36mpackb\u001b[1;34m(o, **kwargs)\u001b[0m\n\u001b[0;32m     51\u001b[0m \u001b[38;5;28;01mdef\u001b[39;00m \u001b[38;5;21mpackb\u001b[39m(o, \u001b[38;5;241m*\u001b[39m\u001b[38;5;241m*\u001b[39mkwargs):\n\u001b[0;32m     52\u001b[0m \u001b[38;5;250m    \u001b[39m\u001b[38;5;124;03m\"\"\"\u001b[39;00m\n\u001b[0;32m     53\u001b[0m \u001b[38;5;124;03m    Pack an object and return the packed bytes.\u001b[39;00m\n\u001b[0;32m     54\u001b[0m \u001b[38;5;124;03m    \"\"\"\u001b[39;00m\n\u001b[1;32m---> 55\u001b[0m     \u001b[38;5;28;01mreturn\u001b[39;00m \u001b[43mPacker\u001b[49m\u001b[43m(\u001b[49m\u001b[38;5;241;43m*\u001b[39;49m\u001b[38;5;241;43m*\u001b[39;49m\u001b[43mkwargs\u001b[49m\u001b[43m)\u001b[49m\u001b[38;5;241;43m.\u001b[39;49m\u001b[43mpack\u001b[49m\u001b[43m(\u001b[49m\u001b[43mo\u001b[49m\u001b[43m)\u001b[49m\n",
      "File \u001b[1;32m~\\AppData\\Local\\Packages\\PythonSoftwareFoundation.Python.3.11_qbz5n2kfra8p0\\LocalCache\\local-packages\\Python311\\site-packages\\srsly\\msgpack\\_packer.pyx:285\u001b[0m, in \u001b[0;36msrsly.msgpack._packer.Packer.pack\u001b[1;34m()\u001b[0m\n",
      "File \u001b[1;32m~\\AppData\\Local\\Packages\\PythonSoftwareFoundation.Python.3.11_qbz5n2kfra8p0\\LocalCache\\local-packages\\Python311\\site-packages\\srsly\\msgpack\\_packer.pyx:291\u001b[0m, in \u001b[0;36msrsly.msgpack._packer.Packer.pack\u001b[1;34m()\u001b[0m\n",
      "File \u001b[1;32m~\\AppData\\Local\\Packages\\PythonSoftwareFoundation.Python.3.11_qbz5n2kfra8p0\\LocalCache\\local-packages\\Python311\\site-packages\\srsly\\msgpack\\_packer.pyx:288\u001b[0m, in \u001b[0;36msrsly.msgpack._packer.Packer.pack\u001b[1;34m()\u001b[0m\n",
      "File \u001b[1;32m~\\AppData\\Local\\Packages\\PythonSoftwareFoundation.Python.3.11_qbz5n2kfra8p0\\LocalCache\\local-packages\\Python311\\site-packages\\srsly\\msgpack\\_packer.pyx:235\u001b[0m, in \u001b[0;36msrsly.msgpack._packer.Packer._pack\u001b[1;34m()\u001b[0m\n",
      "\u001b[1;31mMemoryError\u001b[0m: "
     ]
    }
   ],
   "source": [
    "def convert(data, outfile):\n",
    "    db = spacy.tokens.DocBin()\n",
    "    docs = []\n",
    "    for doc, value in nlp.pipe(data, as_tuples=True):\n",
    "        doc.cats[\"Negative\"] = value == 0\n",
    "        doc.cats[\"Neutral\"] = value == 2\n",
    "        doc.cats[\"Positive\"] = value == 4\n",
    "        db.add(doc)\n",
    "    \n",
    "    db.to_disk(outfile)\n",
    "#convert(train_doc_data, \"./train.spacy\")\n",
    "#convert(testing_doc_data, \"./dev.spacy\")"
   ]
  },
  {
   "cell_type": "code",
   "execution_count": null,
   "id": "e096ecfc-3e57-483f-a727-c79e223dbba0",
   "metadata": {},
   "outputs": [],
   "source": []
  }
 ],
 "metadata": {
  "kernelspec": {
   "display_name": "Python 3 (ipykernel)",
   "language": "python",
   "name": "python3"
  },
  "language_info": {
   "codemirror_mode": {
    "name": "ipython",
    "version": 3
   },
   "file_extension": ".py",
   "mimetype": "text/x-python",
   "name": "python",
   "nbconvert_exporter": "python",
   "pygments_lexer": "ipython3",
   "version": "3.11.6"
  }
 },
 "nbformat": 4,
 "nbformat_minor": 5
}
