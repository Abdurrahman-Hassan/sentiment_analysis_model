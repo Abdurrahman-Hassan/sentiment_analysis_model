{
 "cells": [
  {
   "cell_type": "code",
   "execution_count": 44,
   "id": "38b432b0-f730-4f08-90fa-fd5e4c45be35",
   "metadata": {},
   "outputs": [],
   "source": [
    "import pandas as pd\n",
    "import spacy\n",
    "\n",
    "#nlp = spacy.blank(\"pt\")\n",
    "nlp = spacy.load(\"en_core_web_sm\")\n",
    "\n",
    "df=pd.read_csv(\"emails.csv\")"
   ]
  },
  {
   "cell_type": "code",
   "execution_count": 45,
   "id": "044e8ef6-a30e-4d63-8cb9-567df4e6254f",
   "metadata": {},
   "outputs": [],
   "source": [
    "dataset = list(df[[\"text\", \"spam\"]].sample(frac=1).itertuples(index=False, name=None))\n",
    "\n",
    "train_data = dataset[:4296]\n",
    "dev_data = dataset[4296:5728]\n",
    "\n",
    "train_doc_data = []\n",
    "for text, label in train_data:\n",
    "    doc = nlp(text)\n",
    "    train_doc_data.append((doc, label))\n",
    "\n",
    "#doc=nlp(train_data)\n",
    "\n",
    "#print(train_doc_data)\n",
    "dev_doc_data = []\n",
    "for text, label in dev_data:\n",
    "    doc = nlp(text)\n",
    "    dev_doc_data.append((doc, label))\n",
    "#print(dev_doc_data)\n"
   ]
  },
  {
   "cell_type": "code",
   "execution_count": 46,
   "id": "8db7f4b6-73c1-4137-8588-0a0109acfc73",
   "metadata": {},
   "outputs": [],
   "source": [
    "import string\n",
    "import re\n",
    "import spacy\n",
    "from spacy.lang.pt.stop_words import STOP_WORDS\n",
    "\n",
    "def preprocessing(text):\n",
    "    text = text.lower()\n",
    "  \n",
    "    tokens = [token.text for token in nlp(text)]\n",
    "  \n",
    "    tokens = [t for t in tokens if \n",
    "              t not in STOP_WORDS and \n",
    "              t not in string.punctuation and \n",
    "              len(t) > 3]\n",
    "  \n",
    "    tokens = [t for t in tokens if not t.isdigit()]\n",
    "\n",
    "    tokens = [t for t in tokens if not t.isdigit()]\n",
    "    \n",
    "    return \" \".join(tokens)"
   ]
  },
  {
   "cell_type": "code",
   "execution_count": 35,
   "id": "1d0f899e-8012-4c94-b8e7-4b05bcab8abb",
   "metadata": {},
   "outputs": [],
   "source": [
    "def convert(data, outfile):\n",
    "    db = spacy.tokens.DocBin()\n",
    "    docs = []\n",
    "    for doc, label in nlp.pipe(data, as_tuples=True):\n",
    "        doc.cats[\"POS\"] = label == 1\n",
    "        doc.cats[\"NEG\"] = label == 0\n",
    "        db.add(doc)\n",
    "    \n",
    "    db.to_disk(outfile)\n",
    "convert(train_doc_data, \"./train.spacy\")\n",
    "convert(dev_doc_data, \"./dev.spacy\")"
   ]
  },
  {
   "cell_type": "code",
   "execution_count": 49,
   "id": "a7c8a2bc-c51a-4d41-b873-87c4f45f73e0",
   "metadata": {
    "scrolled": true
   },
   "outputs": [
    {
     "name": "stdout",
     "output_type": "stream",
     "text": [
      "{'POS': 0.6236568689346313, 'NEG': 0.37634316086769104} - Unbelievable Investment Opportunity!\n"
     ]
    }
   ],
   "source": [
    "texts = [\"Unbelievable Investment Opportunity!\"]\n",
    "nlp = spacy.load(\"./model/model-best\")\n",
    "for text in texts:\n",
    "    doc = nlp(preprocessing(text))\n",
    "    print(doc.cats,  \"-\",  text)"
   ]
  },
  {
   "cell_type": "code",
   "execution_count": null,
   "id": "54e89d8c-b90c-4dcb-bb72-a9c3852cad01",
   "metadata": {},
   "outputs": [],
   "source": []
  },
  {
   "cell_type": "code",
   "execution_count": null,
   "id": "1f9dc537-cff1-4fcc-948b-48851645d570",
   "metadata": {},
   "outputs": [],
   "source": []
  }
 ],
 "metadata": {
  "kernelspec": {
   "display_name": "Python 3 (ipykernel)",
   "language": "python",
   "name": "python3"
  },
  "language_info": {
   "codemirror_mode": {
    "name": "ipython",
    "version": 3
   },
   "file_extension": ".py",
   "mimetype": "text/x-python",
   "name": "python",
   "nbconvert_exporter": "python",
   "pygments_lexer": "ipython3",
   "version": "3.11.6"
  }
 },
 "nbformat": 4,
 "nbformat_minor": 5
}
